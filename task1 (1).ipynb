{
 "cells": [
  {
   "cell_type": "code",
   "execution_count": null,
   "id": "4d5b6b82-366c-4f2e-9fab-cb50fcc6cae8",
   "metadata": {},
   "outputs": [],
   "source": [
    "import pandas as pd"
   ]
  },
  {
   "cell_type": "code",
   "execution_count": 1,
   "id": "ec750cbb-8834-48be-88e2-d40d37995bb9",
   "metadata": {},
   "outputs": [
    {
     "name": "stdout",
     "output_type": "stream",
     "text": [
      "Updated list: [9, 2, 3, 5, 6]\n"
     ]
    }
   ],
   "source": [
    "#creating a list\n",
    "my_list = [1,2,3,4,5]\n",
    "\n",
    "#adding an element from the list\n",
    "my_list.append(6)\n",
    "\n",
    "#removing an element from the list\n",
    "my_list.remove(4)\n",
    "\n",
    "#modifying an element from the list\n",
    "my_list[0] = 9\n",
    "\n",
    "print(\"Updated list:\",my_list)"
   ]
  },
  {
   "cell_type": "code",
   "execution_count": 2,
   "id": "147c7b75-28c1-46f1-a5f0-091848ee822d",
   "metadata": {},
   "outputs": [
    {
     "name": "stdout",
     "output_type": "stream",
     "text": [
      "Updated set: {'name': 'sai', 'city': 'Agiripalli', 'gender': 'Female'}\n"
     ]
    }
   ],
   "source": [
    "#creating a dictionary\n",
    "my_dict = {'name': 'sai', 'age': 19,'city':'gudivada'}\n",
    "\n",
    "#creating a key-value pair in dictionary\n",
    "my_dict['gender'] = 'Female'\n",
    "\n",
    "#removing a key-value pair from dictionary\n",
    "del my_dict['age']\n",
    "\n",
    "#modifying a value in dictionary\n",
    "my_dict['city'] = 'Agiripalli'\n",
    "\n",
    "print(\"Updated set:\",my_dict)\n"
   ]
  },
  {
   "cell_type": "code",
   "execution_count": 3,
   "id": "b4ce18ca-d358-4d69-a2f8-1c0b4244599b",
   "metadata": {},
   "outputs": [
    {
     "name": "stdout",
     "output_type": "stream",
     "text": [
      "Updated set: {2, 3, 5, 6, 8}\n"
     ]
    }
   ],
   "source": [
    "#Creating a set\n",
    "my_set = {1,2,3,4,5}\n",
    "\n",
    "#add\n",
    "my_set.add(6)\n",
    "\n",
    "#remove\n",
    "my_set.remove(4)\n",
    "\n",
    "#modify\n",
    "my_set.discard(1)\n",
    "my_set.add(8)\n",
    "\n",
    "print(\"Updated set:\",my_set)\n"
   ]
  },
  {
   "cell_type": "code",
   "execution_count": null,
   "id": "f67cdb9c-f12e-4f13-a472-4fc606422123",
   "metadata": {},
   "outputs": [],
   "source": []
  }
 ],
 "metadata": {
  "kernelspec": {
   "display_name": "Python 3 (ipykernel)",
   "language": "python",
   "name": "python3"
  },
  "language_info": {
   "codemirror_mode": {
    "name": "ipython",
    "version": 3
   },
   "file_extension": ".py",
   "mimetype": "text/x-python",
   "name": "python",
   "nbconvert_exporter": "python",
   "pygments_lexer": "ipython3",
   "version": "3.11.7"
  }
 },
 "nbformat": 4,
 "nbformat_minor": 5
}
